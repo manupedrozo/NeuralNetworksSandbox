{
 "cells": [
  {
   "cell_type": "code",
   "execution_count": null,
   "metadata": {
    "id": "fZOMjk-2pGPs"
   },
   "outputs": [],
   "source": [
    "import tensorflow as tf\n",
    "import numpy as np"
   ]
  },
  {
   "cell_type": "code",
   "execution_count": null,
   "metadata": {
    "id": "UHY5527vqCZw"
   },
   "outputs": [],
   "source": [
    "tf.random.set_seed(1234)\n",
    "np.random.seed(1234)"
   ]
  },
  {
   "cell_type": "code",
   "execution_count": null,
   "metadata": {
    "id": "tA6ykfLKrFkT"
   },
   "outputs": [],
   "source": [
    "# Only if you want to use Google Drive in Colab to save your models\n",
    "from google.colab import drive"
   ]
  },
  {
   "cell_type": "code",
   "execution_count": null,
   "metadata": {
    "id": "j7TeTfLurREm"
   },
   "outputs": [],
   "source": [
    "# Mount Google Drive.\n",
    "# After running the cell, click to the link and follow the instructions to obtain your authorization code.\n",
    "# Once the operation is completed you can access your Google Drive home in '/content/drive/My Drive/'\n",
    "drive.mount('/content/drive')"
   ]
  },
  {
   "cell_type": "code",
   "execution_count": null,
   "metadata": {
    "id": "8HCWSmLHrt3E"
   },
   "outputs": [],
   "source": [
    "# We can now save files in Drive\n",
    "with open('/content/drive/My Drive/Keras2/test.txt', 'w') as f:\n",
    "  f.write('Hello Google Drive!')"
   ]
  },
  {
   "cell_type": "code",
   "execution_count": null,
   "metadata": {
    "id": "_r2ad6N4sY14"
   },
   "outputs": [],
   "source": [
    "!cat /content/drive/My\\ Drive/Keras2/test.txt"
   ]
  },
  {
   "cell_type": "markdown",
   "metadata": {
    "id": "IOeIeOylsGeh"
   },
   "source": [
    "Let's try to save a model.\n",
    "In this example we will create a model, and we will save the model in memory (Google Drive, if you are using Colab, or your local memory)"
   ]
  },
  {
   "cell_type": "code",
   "execution_count": null,
   "metadata": {
    "id": "gL2dc0-iqfc4"
   },
   "outputs": [],
   "source": [
    "# Create base model (e.g., Input -> Hidden -> Out)\n",
    "model = tf.keras.Sequential()\n",
    "model.add(tf.keras.layers.Flatten(input_shape=(28, 28))) # or as a list\n",
    "model.add(tf.keras.layers.Dense(units=64, activation=tf.keras.activations.sigmoid))\n",
    "model.add(tf.keras.layers.Dense(units=10, activation=tf.keras.activations.softmax))"
   ]
  },
  {
   "cell_type": "code",
   "execution_count": null,
   "metadata": {
    "id": "-Q8qN9xeqzm7"
   },
   "outputs": [],
   "source": [
    "# Visualize created model as a table\n",
    "model.summary()\n",
    "\n",
    "# Visualize initialized weights\n",
    "tf.reduce_sum(model.layers[1].weights[0])"
   ]
  },
  {
   "cell_type": "code",
   "execution_count": null,
   "metadata": {
    "id": "hxqp-N-zwrdo"
   },
   "outputs": [],
   "source": [
    "# Create a random input\n",
    "random_input = tf.random.uniform([1, 28, 28])"
   ]
  },
  {
   "cell_type": "code",
   "execution_count": null,
   "metadata": {
    "id": "1jxWPqd7wzJs"
   },
   "outputs": [],
   "source": [
    "# Compute the output given the random input (this is used later to compare saved and loaded models)\n",
    "output = model(random_input)"
   ]
  },
  {
   "cell_type": "code",
   "execution_count": null,
   "metadata": {
    "id": "Y3wkVLZQumif"
   },
   "outputs": [],
   "source": [
    "# We have two ways to save the model (see slides):\n",
    "# 1. Save the entire model.\n",
    "#    When you load the model, it will be already a Model object which can be used for training/evaluation. \n",
    "#    Very useful for example for web/android applications.\n",
    "#     - save \n",
    "#                   model.save('/PATH/TO/YOUR/MODEL')\n",
    "#     - load\n",
    "#                   loaded_model = tf.keras.models.load_model('/PATH/TO/YOUR/MODEL')\n",
    "#\n",
    "# 2. Save only the weights\n",
    "#    In this case we are only saving the weights of the model. \n",
    "#    To load the model (the weights) we need to create the model again and redefine the same model structure of the saved model.\n",
    "#     - save\n",
    "#                   model.save_weights('/PATH/TO/YOUR/MODEL/WEIGHTS/')\n",
    "#     - load\n",
    "#                   loaded_model = tf.keras.Sequential()\n",
    "#                   ...\n",
    "#                   loaded_model.load_weights('/PATH/TO/YOUR/MODEL/WEIGHTS/')"
   ]
  },
  {
   "cell_type": "code",
   "execution_count": null,
   "metadata": {
    "id": "efahBceGx2JQ"
   },
   "outputs": [],
   "source": [
    "# Let's try the first method\n",
    "# Save the model\n",
    "model.save('/content/drive/My Drive/Keras2/saved_model')  # use your local directory if you are not using Drive"
   ]
  },
  {
   "cell_type": "code",
   "execution_count": null,
   "metadata": {
    "id": "WJzSbp0KxkZz"
   },
   "outputs": [],
   "source": [
    "del model"
   ]
  },
  {
   "cell_type": "code",
   "execution_count": null,
   "metadata": {
    "id": "6dmu_D87xm3N"
   },
   "outputs": [],
   "source": [
    "# Load the model\n",
    "loaded_model = tf.keras.models.load_model('/content/drive/My Drive/Keras2/saved_model')  # use your local directory if you are not using Drive"
   ]
  },
  {
   "cell_type": "code",
   "execution_count": null,
   "metadata": {
    "id": "67o0a1FOyPsc"
   },
   "outputs": [],
   "source": [
    "# Check the output of the loaded model is the same of the output computed before saving\n",
    "np.testing.assert_allclose(loaded_model(random_input), output)"
   ]
  },
  {
   "cell_type": "code",
   "execution_count": null,
   "metadata": {
    "id": "xU-fOnamoyBU"
   },
   "outputs": [],
   "source": [
    "# Let's try the second method (only weights)\n",
    "\n",
    "loaded_model.save_weights('/content/drive/My Drive/Keras2/saved_model_weights') # use your local directory if you are not using Drive"
   ]
  },
  {
   "cell_type": "code",
   "execution_count": null,
   "metadata": {
    "id": "dKfgz0oHr2LB"
   },
   "outputs": [],
   "source": [
    "del loaded_model"
   ]
  },
  {
   "cell_type": "code",
   "execution_count": null,
   "metadata": {
    "id": "JZXoOouHzCWW"
   },
   "outputs": [],
   "source": [
    "# We have to create the model again\n",
    "\n",
    "new_model = tf.keras.Sequential()\n",
    "new_model.add(tf.keras.layers.Flatten(input_shape=(28, 28))) # or as a list\n",
    "new_model.add(tf.keras.layers.Dense(units=64, activation=tf.keras.activations.sigmoid))\n",
    "new_model.add(tf.keras.layers.Dense(units=10, activation=tf.keras.activations.softmax))"
   ]
  },
  {
   "cell_type": "code",
   "execution_count": null,
   "metadata": {
    "id": "QGK6mj17zNo5"
   },
   "outputs": [],
   "source": [
    "# Check that the weights are not the same of the ones of the original model\n",
    "tf.reduce_sum(new_model.layers[1].weights[0])"
   ]
  },
  {
   "cell_type": "code",
   "execution_count": null,
   "metadata": {
    "id": "hOIxukRLzXHP"
   },
   "outputs": [],
   "source": [
    "# Load saved weights\n",
    "new_model.load_weights('/content/drive/My Drive/Keras2/saved_model_weights')"
   ]
  },
  {
   "cell_type": "code",
   "execution_count": null,
   "metadata": {
    "id": "Qw5b9_A6zih0"
   },
   "outputs": [],
   "source": [
    "# Check again the weights. Now should be the same.\n",
    "tf.reduce_sum(new_model.layers[1].weights[0])\n",
    "\n",
    "# Check the output of the loaded model is the same of the output computed before saving\n",
    "np.testing.assert_allclose(loaded_model(random_input), output)"
   ]
  },
  {
   "cell_type": "code",
   "execution_count": null,
   "metadata": {
    "id": "Fa-o6L2uyYOt"
   },
   "outputs": [],
   "source": [
    "# Once the model is loaded we can use it for example to evaluate the performance on a new test set or to predict an output given specific input.\n",
    "# Let's try to use a loaded model for evaluation.\n",
    "# Please notice that in this example I will use a model I trained before. You have to replace it with your trained model."
   ]
  },
  {
   "cell_type": "code",
   "execution_count": null,
   "metadata": {
    "id": "pVsh3oY802RO"
   },
   "outputs": [],
   "source": [
    "(x_train, y_train), (x_test, y_test) = tf.keras.datasets.fashion_mnist.load_data()"
   ]
  },
  {
   "cell_type": "code",
   "execution_count": null,
   "metadata": {
    "id": "McjfKbbk0iht"
   },
   "outputs": [],
   "source": [
    "model = tf.keras.Sequential()\n",
    "model.add(tf.keras.layers.Flatten(input_shape=(28, 28))) # or as a list\n",
    "model.add(tf.keras.layers.Dense(units=512, activation=tf.keras.activations.relu))\n",
    "model.add(tf.keras.layers.Dense(units=512, activation=tf.keras.activations.relu))\n",
    "model.add(tf.keras.layers.Dense(units=512, activation=tf.keras.activations.relu))\n",
    "model.add(tf.keras.layers.Dense(units=10, activation=tf.keras.activations.softmax))"
   ]
  },
  {
   "cell_type": "code",
   "execution_count": null,
   "metadata": {
    "id": "grmrTWDd1QQw"
   },
   "outputs": [],
   "source": [
    "model.load_weights('/content/drive/My Drive/Keras2/classification_experiments_/FC_Oct13_22-51-04/ckpts/cp_10.ckpt')"
   ]
  },
  {
   "cell_type": "code",
   "execution_count": null,
   "metadata": {
    "id": "BJjvzefkq3v9"
   },
   "outputs": [],
   "source": [
    "# You have to compile also before using it for evaluation\n",
    "\n",
    "# Optimization params\n",
    "# -------------------\n",
    "\n",
    "# Loss\n",
    "loss = tf.keras.losses.CategoricalCrossentropy()\n",
    "\n",
    "# learning rate\n",
    "lr = 1e-5\n",
    "optimizer = tf.keras.optimizers.Adam(learning_rate=lr)\n",
    "# -------------------\n",
    "\n",
    "# Validation metrics\n",
    "# ------------------\n",
    "\n",
    "metrics = ['accuracy']\n",
    "# ------------------\n",
    "\n",
    "# Compile Model\n",
    "model.compile(optimizer=optimizer, loss=loss, metrics=metrics)"
   ]
  },
  {
   "cell_type": "code",
   "execution_count": null,
   "metadata": {
    "id": "deOEyRSS1y2x"
   },
   "outputs": [],
   "source": [
    "# evaluate method is similar to the fit one, except that no training is performed.\n",
    "# The output is computed for each sample (batch) of your test set and the losses/metrics are evaluated.\n",
    "# Finally, the overall losses and metrics are returned. \n",
    "\n",
    "eval_out = model.evaluate(x=x_test / 255.,\n",
    "                          y=tf.keras.utils.to_categorical(y_test),\n",
    "                          batch_size=8,\n",
    "                          verbose=1)\n",
    "eval_out"
   ]
  },
  {
   "cell_type": "code",
   "execution_count": null,
   "metadata": {
    "id": "6A7PND2y2NUE"
   },
   "outputs": [],
   "source": [
    "# In the following an example of how to use the model for prediction.\n",
    "# In this example a drawn (literally with Paint :)) image is used. Just for fun!\n",
    "# You will find it in the class folder.  \n",
    "\n",
    "# Compute output given x\n",
    "from PIL import Image\n",
    "\n",
    "shoe_img = Image.open('/content/drive/My Drive/Keras2/shoe.png').convert('L')"
   ]
  },
  {
   "cell_type": "code",
   "execution_count": null,
   "metadata": {
    "id": "dgRf0Sn-4L_E"
   },
   "outputs": [],
   "source": [
    "shoe_img.resize((256, 256))"
   ]
  },
  {
   "cell_type": "code",
   "execution_count": null,
   "metadata": {
    "id": "i4keiBaK4PCz"
   },
   "outputs": [],
   "source": [
    "shoe_arr = np.expand_dims(np.array(shoe_img), 0)  # to obtain the batch dimension\n",
    "\n",
    "out_softmax = model.predict(x=shoe_arr / 255.)\n",
    "\n",
    "out_softmax  # output is the probability distribution (softmax)"
   ]
  },
  {
   "cell_type": "markdown",
   "metadata": {
    "id": "6g5MAOSt4h8Z"
   },
   "source": [
    "0\tT-shirt/top \\\\\n",
    "1\tTrouser \\\\\n",
    "2\tPullover \\\\\n",
    "3\tDress \\\\\n",
    "4\tCoat \\\\\n",
    "5\tSandal \\\\\n",
    "6\tShirt \\\\\n",
    "7\tSneaker \\\\\n",
    "8\tBag \\\\\n",
    "9\tAnkle boot \\\\\n",
    "\n"
   ]
  },
  {
   "cell_type": "code",
   "execution_count": null,
   "metadata": {
    "id": "ifaSUAzu4Wmr"
   },
   "outputs": [],
   "source": [
    "# Get predicted class as the index corresponding to the maximum value in the vector probability\n",
    "predicted_class = tf.argmax(out_softmax, 1)\n",
    "predicted_class"
   ]
  }
 ],
 "metadata": {
  "colab": {
   "collapsed_sections": [],
   "name": "SaveModel.ipynb",
   "provenance": []
  },
  "kernelspec": {
   "display_name": "Python 3",
   "language": "python",
   "name": "python3"
  },
  "language_info": {
   "codemirror_mode": {
    "name": "ipython",
    "version": 3
   },
   "file_extension": ".py",
   "mimetype": "text/x-python",
   "name": "python",
   "nbconvert_exporter": "python",
   "pygments_lexer": "ipython3",
   "version": "3.7.9"
  }
 },
 "nbformat": 4,
 "nbformat_minor": 1
}
